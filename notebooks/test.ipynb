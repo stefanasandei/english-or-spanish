{
 "cells": [
  {
   "cell_type": "code",
   "execution_count": 1,
   "metadata": {},
   "outputs": [],
   "source": [
    "import jax\n",
    "import jax.numpy as jnp\n",
    "\n",
    "from data_utils import get_dataset, get_data_params"
   ]
  },
  {
   "cell_type": "code",
   "execution_count": 2,
   "metadata": {},
   "outputs": [
    {
     "data": {
      "text/plain": [
       "((71416, 10, 28), (71416,))"
      ]
     },
     "execution_count": 2,
     "metadata": {},
     "output_type": "execute_result"
    }
   ],
   "source": [
    "# 1. hyperparameters\n",
    "seed = 42\n",
    "\n",
    "key = jax.random.key(seed)\n",
    "\n",
    "# 2. data prep\n",
    "data = get_data_params()\n",
    "X, Y = get_dataset(seed)\n",
    "\n",
    "n = int(0.8 * data[\"data_size\"])\n",
    "\n",
    "Xtr, Ytr = X[:n], Y[:n]\n",
    "Xval, Yval = X[n:], Y[n:]\n",
    "\n",
    "n_input = data[\"vocab_size\"] * data[\"max_chars_in_word\"]\n",
    "n_hidden = 100\n",
    "n_output = data[\"num_classes\"]\n",
    "\n",
    "W1 = jax.random.uniform(key, (n_input, n_hidden)) * 0.01\n",
    "b1 = jnp.zeros((n_hidden))\n",
    "W2 = jax.random.uniform(key, (n_hidden, n_output)) * 0.01\n",
    "b2 = jnp.zeros((n_output))\n",
    "\n",
    "X.shape, Y.shape"
   ]
  },
  {
   "cell_type": "code",
   "execution_count": 11,
   "metadata": {},
   "outputs": [
    {
     "name": "stdout",
     "output_type": "stream",
     "text": [
      "(71416, 7)\n"
     ]
    },
    {
     "data": {
      "text/plain": [
       "Array(1.9457785, dtype=float32)"
      ]
     },
     "execution_count": 11,
     "metadata": {},
     "output_type": "execute_result"
    }
   ],
   "source": [
    "h = jnp.tanh(X.reshape(-1, n_input) @ W1 + b1)\n",
    "logits = h @ W2 + b2\n",
    "\n",
    "print(logits.shape)\n",
    "\n",
    "counts = jnp.exp(logits)\n",
    "prob = counts / counts.sum(1, keepdims=True)\n",
    "-jnp.mean(jnp.log(prob[jnp.arange(Y.shape[0]), Y]))"
   ]
  }
 ],
 "metadata": {
  "kernelspec": {
   "display_name": "Python 3",
   "language": "python",
   "name": "python3"
  },
  "language_info": {
   "codemirror_mode": {
    "name": "ipython",
    "version": 3
   },
   "file_extension": ".py",
   "mimetype": "text/x-python",
   "name": "python",
   "nbconvert_exporter": "python",
   "pygments_lexer": "ipython3",
   "version": "3.10.12"
  }
 },
 "nbformat": 4,
 "nbformat_minor": 2
}
